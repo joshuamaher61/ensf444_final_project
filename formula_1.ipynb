{
 "cells": [
  {
   "cell_type": "markdown",
   "id": "63812c3e",
   "metadata": {},
   "source": [
    "ENSF 444 Project - Group 85"
   ]
  },
  {
   "cell_type": "code",
   "execution_count": 69,
   "id": "447e03b3",
   "metadata": {},
   "outputs": [],
   "source": [
    "import pandas as pd\n",
    "import numpy as np"
   ]
  },
  {
   "cell_type": "code",
   "execution_count": 70,
   "id": "d99174d5",
   "metadata": {},
   "outputs": [],
   "source": [
    "results_df = pd.read_csv('data/results.csv')\n",
    "drivers_df = pd.read_csv('data/drivers.csv')\n",
    "races_df = pd.read_csv('data/races.csv')\n",
    "constructors_df = pd.read_csv('data/constructors.csv')\n",
    "status_df = pd.read_csv('data/status.csv')"
   ]
  },
  {
   "cell_type": "markdown",
   "id": "d6f2e695",
   "metadata": {},
   "source": [
    "Transform Data"
   ]
  },
  {
   "cell_type": "code",
   "execution_count": 71,
   "id": "8127f1b9",
   "metadata": {},
   "outputs": [
    {
     "name": "stdout",
     "output_type": "stream",
     "text": [
      "resultId               int64\n",
      "raceId                 int64\n",
      "driverId               int64\n",
      "constructorId          int64\n",
      "starting_position      int64\n",
      "final_position       float64\n",
      "statusId               int64\n",
      "dtype: object\n"
     ]
    },
    {
     "data": {
      "text/html": [
       "<div>\n",
       "<style scoped>\n",
       "    .dataframe tbody tr th:only-of-type {\n",
       "        vertical-align: middle;\n",
       "    }\n",
       "\n",
       "    .dataframe tbody tr th {\n",
       "        vertical-align: top;\n",
       "    }\n",
       "\n",
       "    .dataframe thead th {\n",
       "        text-align: right;\n",
       "    }\n",
       "</style>\n",
       "<table border=\"1\" class=\"dataframe\">\n",
       "  <thead>\n",
       "    <tr style=\"text-align: right;\">\n",
       "      <th></th>\n",
       "      <th>resultId</th>\n",
       "      <th>raceId</th>\n",
       "      <th>driverId</th>\n",
       "      <th>constructorId</th>\n",
       "      <th>starting_position</th>\n",
       "      <th>final_position</th>\n",
       "      <th>statusId</th>\n",
       "    </tr>\n",
       "  </thead>\n",
       "  <tbody>\n",
       "    <tr>\n",
       "      <th>0</th>\n",
       "      <td>1</td>\n",
       "      <td>18</td>\n",
       "      <td>1</td>\n",
       "      <td>1</td>\n",
       "      <td>1</td>\n",
       "      <td>1.0</td>\n",
       "      <td>1</td>\n",
       "    </tr>\n",
       "    <tr>\n",
       "      <th>1</th>\n",
       "      <td>2</td>\n",
       "      <td>18</td>\n",
       "      <td>2</td>\n",
       "      <td>2</td>\n",
       "      <td>5</td>\n",
       "      <td>2.0</td>\n",
       "      <td>1</td>\n",
       "    </tr>\n",
       "    <tr>\n",
       "      <th>2</th>\n",
       "      <td>3</td>\n",
       "      <td>18</td>\n",
       "      <td>3</td>\n",
       "      <td>3</td>\n",
       "      <td>7</td>\n",
       "      <td>3.0</td>\n",
       "      <td>1</td>\n",
       "    </tr>\n",
       "    <tr>\n",
       "      <th>3</th>\n",
       "      <td>4</td>\n",
       "      <td>18</td>\n",
       "      <td>4</td>\n",
       "      <td>4</td>\n",
       "      <td>11</td>\n",
       "      <td>4.0</td>\n",
       "      <td>1</td>\n",
       "    </tr>\n",
       "    <tr>\n",
       "      <th>4</th>\n",
       "      <td>5</td>\n",
       "      <td>18</td>\n",
       "      <td>5</td>\n",
       "      <td>1</td>\n",
       "      <td>3</td>\n",
       "      <td>5.0</td>\n",
       "      <td>1</td>\n",
       "    </tr>\n",
       "  </tbody>\n",
       "</table>\n",
       "</div>"
      ],
      "text/plain": [
       "   resultId  raceId  driverId  constructorId  starting_position  \\\n",
       "0         1      18         1              1                  1   \n",
       "1         2      18         2              2                  5   \n",
       "2         3      18         3              3                  7   \n",
       "3         4      18         4              4                 11   \n",
       "4         5      18         5              1                  3   \n",
       "\n",
       "   final_position  statusId  \n",
       "0             1.0         1  \n",
       "1             2.0         1  \n",
       "2             3.0         1  \n",
       "3             4.0         1  \n",
       "4             5.0         1  "
      ]
     },
     "execution_count": 71,
     "metadata": {},
     "output_type": "execute_result"
    }
   ],
   "source": [
    "results_df.drop(['number','positionText','positionOrder','points','laps','time','milliseconds','fastestLap','rank','fastestLapTime','fastestLapSpeed'], axis=1, inplace=True)\n",
    "results_df.rename(columns={'position':'final_position','grid':'starting_position'}, inplace=True)\n",
    "\n",
    "results_df['final_position'] = results_df['final_position'].replace('\\\\N', np.nan)\n",
    "results_df.final_position = pd.to_numeric(results_df.final_position)\n",
    "print(results_df.dtypes)\n",
    "results_df.head()"
   ]
  },
  {
   "cell_type": "code",
   "execution_count": 72,
   "id": "e08d2649",
   "metadata": {},
   "outputs": [
    {
     "name": "stdout",
     "output_type": "stream",
     "text": [
      "driverId        int64\n",
      "driver_name    object\n",
      "dtype: object\n"
     ]
    },
    {
     "data": {
      "text/html": [
       "<div>\n",
       "<style scoped>\n",
       "    .dataframe tbody tr th:only-of-type {\n",
       "        vertical-align: middle;\n",
       "    }\n",
       "\n",
       "    .dataframe tbody tr th {\n",
       "        vertical-align: top;\n",
       "    }\n",
       "\n",
       "    .dataframe thead th {\n",
       "        text-align: right;\n",
       "    }\n",
       "</style>\n",
       "<table border=\"1\" class=\"dataframe\">\n",
       "  <thead>\n",
       "    <tr style=\"text-align: right;\">\n",
       "      <th></th>\n",
       "      <th>driverId</th>\n",
       "      <th>driver_name</th>\n",
       "    </tr>\n",
       "  </thead>\n",
       "  <tbody>\n",
       "    <tr>\n",
       "      <th>0</th>\n",
       "      <td>1</td>\n",
       "      <td>Lewis Hamilton</td>\n",
       "    </tr>\n",
       "    <tr>\n",
       "      <th>1</th>\n",
       "      <td>2</td>\n",
       "      <td>Nick Heidfeld</td>\n",
       "    </tr>\n",
       "    <tr>\n",
       "      <th>2</th>\n",
       "      <td>3</td>\n",
       "      <td>Nico Rosberg</td>\n",
       "    </tr>\n",
       "    <tr>\n",
       "      <th>3</th>\n",
       "      <td>4</td>\n",
       "      <td>Fernando Alonso</td>\n",
       "    </tr>\n",
       "    <tr>\n",
       "      <th>4</th>\n",
       "      <td>5</td>\n",
       "      <td>Heikki Kovalainen</td>\n",
       "    </tr>\n",
       "  </tbody>\n",
       "</table>\n",
       "</div>"
      ],
      "text/plain": [
       "   driverId        driver_name\n",
       "0         1     Lewis Hamilton\n",
       "1         2      Nick Heidfeld\n",
       "2         3       Nico Rosberg\n",
       "3         4    Fernando Alonso\n",
       "4         5  Heikki Kovalainen"
      ]
     },
     "execution_count": 72,
     "metadata": {},
     "output_type": "execute_result"
    }
   ],
   "source": [
    "drivers_df['driver_name'] = drivers_df['forename'] + ' ' + drivers_df['surname']\n",
    "drivers_df.drop(['driverRef','number','code','forename','surname','dob','nationality','url'], axis=1, inplace=True)\n",
    "\n",
    "print(drivers_df.dtypes)\n",
    "drivers_df.head()"
   ]
  },
  {
   "cell_type": "code",
   "execution_count": 73,
   "id": "3e3404d6",
   "metadata": {},
   "outputs": [
    {
     "name": "stdout",
     "output_type": "stream",
     "text": [
      "raceId        int64\n",
      "year          int64\n",
      "circuitId     int64\n",
      "name         object\n",
      "dtype: object\n"
     ]
    },
    {
     "data": {
      "text/html": [
       "<div>\n",
       "<style scoped>\n",
       "    .dataframe tbody tr th:only-of-type {\n",
       "        vertical-align: middle;\n",
       "    }\n",
       "\n",
       "    .dataframe tbody tr th {\n",
       "        vertical-align: top;\n",
       "    }\n",
       "\n",
       "    .dataframe thead th {\n",
       "        text-align: right;\n",
       "    }\n",
       "</style>\n",
       "<table border=\"1\" class=\"dataframe\">\n",
       "  <thead>\n",
       "    <tr style=\"text-align: right;\">\n",
       "      <th></th>\n",
       "      <th>raceId</th>\n",
       "      <th>year</th>\n",
       "      <th>circuitId</th>\n",
       "      <th>name</th>\n",
       "    </tr>\n",
       "  </thead>\n",
       "  <tbody>\n",
       "    <tr>\n",
       "      <th>0</th>\n",
       "      <td>1</td>\n",
       "      <td>2009</td>\n",
       "      <td>1</td>\n",
       "      <td>Australian Grand Prix</td>\n",
       "    </tr>\n",
       "    <tr>\n",
       "      <th>1</th>\n",
       "      <td>2</td>\n",
       "      <td>2009</td>\n",
       "      <td>2</td>\n",
       "      <td>Malaysian Grand Prix</td>\n",
       "    </tr>\n",
       "    <tr>\n",
       "      <th>2</th>\n",
       "      <td>3</td>\n",
       "      <td>2009</td>\n",
       "      <td>17</td>\n",
       "      <td>Chinese Grand Prix</td>\n",
       "    </tr>\n",
       "    <tr>\n",
       "      <th>3</th>\n",
       "      <td>4</td>\n",
       "      <td>2009</td>\n",
       "      <td>3</td>\n",
       "      <td>Bahrain Grand Prix</td>\n",
       "    </tr>\n",
       "    <tr>\n",
       "      <th>4</th>\n",
       "      <td>5</td>\n",
       "      <td>2009</td>\n",
       "      <td>4</td>\n",
       "      <td>Spanish Grand Prix</td>\n",
       "    </tr>\n",
       "  </tbody>\n",
       "</table>\n",
       "</div>"
      ],
      "text/plain": [
       "   raceId  year  circuitId                   name\n",
       "0       1  2009          1  Australian Grand Prix\n",
       "1       2  2009          2   Malaysian Grand Prix\n",
       "2       3  2009         17     Chinese Grand Prix\n",
       "3       4  2009          3     Bahrain Grand Prix\n",
       "4       5  2009          4     Spanish Grand Prix"
      ]
     },
     "execution_count": 73,
     "metadata": {},
     "output_type": "execute_result"
    }
   ],
   "source": [
    "races_df.drop(columns=['round','date','time','url','fp1_date','fp1_time','fp2_date','fp2_time','fp3_date','fp3_time','quali_date','quali_time','sprint_date','sprint_time',], axis=1, inplace=True)\n",
    "\n",
    "print(races_df.dtypes)\n",
    "races_df.head()"
   ]
  },
  {
   "cell_type": "code",
   "execution_count": 74,
   "id": "76a0e6a2",
   "metadata": {},
   "outputs": [
    {
     "name": "stdout",
     "output_type": "stream",
     "text": [
      "constructorId     int64\n",
      "name             object\n",
      "dtype: object\n"
     ]
    },
    {
     "data": {
      "text/html": [
       "<div>\n",
       "<style scoped>\n",
       "    .dataframe tbody tr th:only-of-type {\n",
       "        vertical-align: middle;\n",
       "    }\n",
       "\n",
       "    .dataframe tbody tr th {\n",
       "        vertical-align: top;\n",
       "    }\n",
       "\n",
       "    .dataframe thead th {\n",
       "        text-align: right;\n",
       "    }\n",
       "</style>\n",
       "<table border=\"1\" class=\"dataframe\">\n",
       "  <thead>\n",
       "    <tr style=\"text-align: right;\">\n",
       "      <th></th>\n",
       "      <th>constructorId</th>\n",
       "      <th>name</th>\n",
       "    </tr>\n",
       "  </thead>\n",
       "  <tbody>\n",
       "    <tr>\n",
       "      <th>0</th>\n",
       "      <td>1</td>\n",
       "      <td>McLaren</td>\n",
       "    </tr>\n",
       "    <tr>\n",
       "      <th>1</th>\n",
       "      <td>2</td>\n",
       "      <td>BMW Sauber</td>\n",
       "    </tr>\n",
       "    <tr>\n",
       "      <th>2</th>\n",
       "      <td>3</td>\n",
       "      <td>Williams</td>\n",
       "    </tr>\n",
       "    <tr>\n",
       "      <th>3</th>\n",
       "      <td>4</td>\n",
       "      <td>Renault</td>\n",
       "    </tr>\n",
       "    <tr>\n",
       "      <th>4</th>\n",
       "      <td>5</td>\n",
       "      <td>Toro Rosso</td>\n",
       "    </tr>\n",
       "  </tbody>\n",
       "</table>\n",
       "</div>"
      ],
      "text/plain": [
       "   constructorId        name\n",
       "0              1     McLaren\n",
       "1              2  BMW Sauber\n",
       "2              3    Williams\n",
       "3              4     Renault\n",
       "4              5  Toro Rosso"
      ]
     },
     "execution_count": 74,
     "metadata": {},
     "output_type": "execute_result"
    }
   ],
   "source": [
    "constructors_df.drop(columns=['constructorRef','nationality','url'], axis=1, inplace=True)\n",
    "\n",
    "print(constructors_df.dtypes)\n",
    "constructors_df.head()"
   ]
  },
  {
   "cell_type": "code",
   "execution_count": 75,
   "id": "879d1ca0",
   "metadata": {},
   "outputs": [
    {
     "name": "stdout",
     "output_type": "stream",
     "text": [
      "statusId     int64\n",
      "status      object\n",
      "dtype: object\n"
     ]
    },
    {
     "data": {
      "text/html": [
       "<div>\n",
       "<style scoped>\n",
       "    .dataframe tbody tr th:only-of-type {\n",
       "        vertical-align: middle;\n",
       "    }\n",
       "\n",
       "    .dataframe tbody tr th {\n",
       "        vertical-align: top;\n",
       "    }\n",
       "\n",
       "    .dataframe thead th {\n",
       "        text-align: right;\n",
       "    }\n",
       "</style>\n",
       "<table border=\"1\" class=\"dataframe\">\n",
       "  <thead>\n",
       "    <tr style=\"text-align: right;\">\n",
       "      <th></th>\n",
       "      <th>statusId</th>\n",
       "      <th>status</th>\n",
       "    </tr>\n",
       "  </thead>\n",
       "  <tbody>\n",
       "    <tr>\n",
       "      <th>0</th>\n",
       "      <td>1</td>\n",
       "      <td>Finished</td>\n",
       "    </tr>\n",
       "    <tr>\n",
       "      <th>1</th>\n",
       "      <td>2</td>\n",
       "      <td>Disqualified</td>\n",
       "    </tr>\n",
       "    <tr>\n",
       "      <th>2</th>\n",
       "      <td>3</td>\n",
       "      <td>Accident</td>\n",
       "    </tr>\n",
       "    <tr>\n",
       "      <th>3</th>\n",
       "      <td>4</td>\n",
       "      <td>Collision</td>\n",
       "    </tr>\n",
       "    <tr>\n",
       "      <th>4</th>\n",
       "      <td>5</td>\n",
       "      <td>Engine</td>\n",
       "    </tr>\n",
       "  </tbody>\n",
       "</table>\n",
       "</div>"
      ],
      "text/plain": [
       "   statusId        status\n",
       "0         1      Finished\n",
       "1         2  Disqualified\n",
       "2         3      Accident\n",
       "3         4     Collision\n",
       "4         5        Engine"
      ]
     },
     "execution_count": 75,
     "metadata": {},
     "output_type": "execute_result"
    }
   ],
   "source": [
    "print(status_df.dtypes)\n",
    "status_df.head()\n"
   ]
  },
  {
   "cell_type": "markdown",
   "id": "19641f43",
   "metadata": {},
   "source": [
    "Combining Datasets"
   ]
  },
  {
   "cell_type": "code",
   "execution_count": 76,
   "id": "9d0bde55",
   "metadata": {},
   "outputs": [
    {
     "data": {
      "text/html": [
       "<div>\n",
       "<style scoped>\n",
       "    .dataframe tbody tr th:only-of-type {\n",
       "        vertical-align: middle;\n",
       "    }\n",
       "\n",
       "    .dataframe tbody tr th {\n",
       "        vertical-align: top;\n",
       "    }\n",
       "\n",
       "    .dataframe thead th {\n",
       "        text-align: right;\n",
       "    }\n",
       "</style>\n",
       "<table border=\"1\" class=\"dataframe\">\n",
       "  <thead>\n",
       "    <tr style=\"text-align: right;\">\n",
       "      <th></th>\n",
       "      <th>resultId</th>\n",
       "      <th>raceId</th>\n",
       "      <th>driverId</th>\n",
       "      <th>constructorId</th>\n",
       "      <th>starting_position</th>\n",
       "      <th>final_position</th>\n",
       "      <th>statusId</th>\n",
       "      <th>year</th>\n",
       "      <th>circuitId</th>\n",
       "      <th>race_name</th>\n",
       "      <th>driver_name</th>\n",
       "      <th>constructor_name</th>\n",
       "      <th>status</th>\n",
       "    </tr>\n",
       "  </thead>\n",
       "  <tbody>\n",
       "    <tr>\n",
       "      <th>0</th>\n",
       "      <td>1</td>\n",
       "      <td>18</td>\n",
       "      <td>1</td>\n",
       "      <td>1</td>\n",
       "      <td>1</td>\n",
       "      <td>1.0</td>\n",
       "      <td>1</td>\n",
       "      <td>2008</td>\n",
       "      <td>1</td>\n",
       "      <td>Australian Grand Prix</td>\n",
       "      <td>Lewis Hamilton</td>\n",
       "      <td>McLaren</td>\n",
       "      <td>Finished</td>\n",
       "    </tr>\n",
       "    <tr>\n",
       "      <th>1</th>\n",
       "      <td>2</td>\n",
       "      <td>18</td>\n",
       "      <td>2</td>\n",
       "      <td>2</td>\n",
       "      <td>5</td>\n",
       "      <td>2.0</td>\n",
       "      <td>1</td>\n",
       "      <td>2008</td>\n",
       "      <td>1</td>\n",
       "      <td>Australian Grand Prix</td>\n",
       "      <td>Nick Heidfeld</td>\n",
       "      <td>BMW Sauber</td>\n",
       "      <td>Finished</td>\n",
       "    </tr>\n",
       "    <tr>\n",
       "      <th>2</th>\n",
       "      <td>3</td>\n",
       "      <td>18</td>\n",
       "      <td>3</td>\n",
       "      <td>3</td>\n",
       "      <td>7</td>\n",
       "      <td>3.0</td>\n",
       "      <td>1</td>\n",
       "      <td>2008</td>\n",
       "      <td>1</td>\n",
       "      <td>Australian Grand Prix</td>\n",
       "      <td>Nico Rosberg</td>\n",
       "      <td>Williams</td>\n",
       "      <td>Finished</td>\n",
       "    </tr>\n",
       "    <tr>\n",
       "      <th>3</th>\n",
       "      <td>4</td>\n",
       "      <td>18</td>\n",
       "      <td>4</td>\n",
       "      <td>4</td>\n",
       "      <td>11</td>\n",
       "      <td>4.0</td>\n",
       "      <td>1</td>\n",
       "      <td>2008</td>\n",
       "      <td>1</td>\n",
       "      <td>Australian Grand Prix</td>\n",
       "      <td>Fernando Alonso</td>\n",
       "      <td>Renault</td>\n",
       "      <td>Finished</td>\n",
       "    </tr>\n",
       "    <tr>\n",
       "      <th>4</th>\n",
       "      <td>5</td>\n",
       "      <td>18</td>\n",
       "      <td>5</td>\n",
       "      <td>1</td>\n",
       "      <td>3</td>\n",
       "      <td>5.0</td>\n",
       "      <td>1</td>\n",
       "      <td>2008</td>\n",
       "      <td>1</td>\n",
       "      <td>Australian Grand Prix</td>\n",
       "      <td>Heikki Kovalainen</td>\n",
       "      <td>McLaren</td>\n",
       "      <td>Finished</td>\n",
       "    </tr>\n",
       "  </tbody>\n",
       "</table>\n",
       "</div>"
      ],
      "text/plain": [
       "   resultId  raceId  driverId  constructorId  starting_position  \\\n",
       "0         1      18         1              1                  1   \n",
       "1         2      18         2              2                  5   \n",
       "2         3      18         3              3                  7   \n",
       "3         4      18         4              4                 11   \n",
       "4         5      18         5              1                  3   \n",
       "\n",
       "   final_position  statusId  year  circuitId              race_name  \\\n",
       "0             1.0         1  2008          1  Australian Grand Prix   \n",
       "1             2.0         1  2008          1  Australian Grand Prix   \n",
       "2             3.0         1  2008          1  Australian Grand Prix   \n",
       "3             4.0         1  2008          1  Australian Grand Prix   \n",
       "4             5.0         1  2008          1  Australian Grand Prix   \n",
       "\n",
       "         driver_name constructor_name    status  \n",
       "0     Lewis Hamilton          McLaren  Finished  \n",
       "1      Nick Heidfeld       BMW Sauber  Finished  \n",
       "2       Nico Rosberg         Williams  Finished  \n",
       "3    Fernando Alonso          Renault  Finished  \n",
       "4  Heikki Kovalainen          McLaren  Finished  "
      ]
     },
     "metadata": {},
     "output_type": "display_data"
    },
    {
     "name": "stdout",
     "output_type": "stream",
     "text": [
      "resultId               int64\n",
      "raceId                 int64\n",
      "driverId               int64\n",
      "constructorId          int64\n",
      "starting_position      int64\n",
      "final_position       float64\n",
      "statusId               int64\n",
      "year                   int64\n",
      "circuitId              int64\n",
      "race_name             object\n",
      "driver_name           object\n",
      "constructor_name      object\n",
      "status                object\n",
      "dtype: object\n"
     ]
    }
   ],
   "source": [
    "combined_df = pd.merge(results_df, races_df, on='raceId', how='inner')\n",
    "combined_df = pd.merge(combined_df, drivers_df, on='driverId', how='inner')\n",
    "combined_df = pd.merge(combined_df, constructors_df, on='constructorId', how='inner')\n",
    "combined_df = pd.merge(combined_df, status_df, on='statusId', how='inner')\n",
    "combined_df.drop_duplicates(subset=['raceId','driverId'], inplace=True)\n",
    "combined_df.rename(columns={'name_x': 'race_name'}, inplace=True)\n",
    "combined_df.rename(columns={'name_y': 'constructor_name'}, inplace=True)\n",
    "\n",
    "combined_df = combined_df[combined_df['status'] == 'Finished']\n",
    "combined_df = combined_df[combined_df['starting_position'] > 0]\n",
    "\n",
    "display(combined_df.head())\n",
    "print(combined_df.dtypes)"
   ]
  },
  {
   "cell_type": "markdown",
   "id": "5eeff9c3",
   "metadata": {},
   "source": [
    "Checking for duplicates and null values"
   ]
  },
  {
   "cell_type": "code",
   "execution_count": 77,
   "id": "e8ad8180",
   "metadata": {},
   "outputs": [
    {
     "name": "stdout",
     "output_type": "stream",
     "text": [
      "Number of duplicates: 0\n",
      "Number of null values:\n",
      " resultId             0\n",
      "raceId               0\n",
      "driverId             0\n",
      "constructorId        0\n",
      "starting_position    0\n",
      "final_position       0\n",
      "statusId             0\n",
      "year                 0\n",
      "circuitId            0\n",
      "race_name            0\n",
      "driver_name          0\n",
      "constructor_name     0\n",
      "status               0\n",
      "dtype: int64\n"
     ]
    }
   ],
   "source": [
    "print(\"Number of duplicates:\", combined_df.duplicated().sum())\n",
    "print(\"Number of null values:\\n\", combined_df.isna().sum())"
   ]
  },
  {
   "cell_type": "code",
   "execution_count": 78,
   "id": "7d5f03e1",
   "metadata": {},
   "outputs": [
    {
     "name": "stdout",
     "output_type": "stream",
     "text": [
      "Numeric columns: Index(['resultId', 'raceId', 'driverId', 'constructorId', 'starting_position',\n",
      "       'final_position', 'statusId', 'year', 'circuitId'],\n",
      "      dtype='object')\n"
     ]
    },
    {
     "data": {
      "image/png": "[encoded data removed]",
      "text/plain": [
       "<Figure size 1000x800 with 2 Axes>"
      ]
     },
     "metadata": {},
     "output_type": "display_data"
    }
   ],
   "source": [
    "import seaborn as sns\n",
    "import matplotlib.pyplot as plt\n",
    "\n",
    "numeric_cols = combined_df.select_dtypes(include=[np.number]).columns\n",
    "print(\"Numeric columns:\", numeric_cols)\n",
    "\n",
    "corr_matrix = combined_df[numeric_cols].corr()\n",
    "\n",
    "plt.figure(figsize=(10, 8))\n",
    "sns.heatmap(corr_matrix, annot=True, cmap=\"coolwarm\")\n",
    "plt.title(\"Correlation Matrix for Combined DataFrame\")\n",
    "plt.show()"
   ]
  },
  {
   "cell_type": "code",
   "execution_count": 79,
   "id": "ab130e22",
   "metadata": {},
   "outputs": [
    {
     "name": "stdout",
     "output_type": "stream",
     "text": [
      "X_train shape: (6107, 3)\n",
      "X_test shape: (1527, 3)\n",
      "y_train shape: (6107,)\n",
      "y_test shape: (1527,)\n"
     ]
    }
   ],
   "source": [
    "from sklearn.model_selection import train_test_split\n",
    "\n",
    "target = 'final_position'\n",
    "features = ['starting_position', 'year', 'circuitId']\n",
    "x = combined_df[features]\n",
    "y = combined_df[target]\n",
    "\n",
    "x_train, x_test, y_train, y_test = train_test_split(x, y, test_size=0.2, random_state=0)\n",
    "\n",
    "print(\"X_train shape:\", x_train.shape)\n",
    "print(\"X_test shape:\", x_test.shape)\n",
    "print(\"y_train shape:\", y_train.shape)\n",
    "print(\"y_test shape:\", y_test.shape)"
   ]
  },
  {
   "cell_type": "markdown",
   "id": "65eb4cc5",
   "metadata": {},
   "source": [
    "Testing 3 Different Models"
   ]
  },
  {
   "cell_type": "code",
   "execution_count": 80,
   "id": "5b072393",
   "metadata": {},
   "outputs": [
    {
     "name": "stdout",
     "output_type": "stream",
     "text": [
      "Linear Regression Metrics:\n",
      "MAE: 1.98\n",
      "MSE: 6.95\n",
      "R2: 0.46\n",
      "\n"
     ]
    }
   ],
   "source": [
    "from sklearn.linear_model import LinearRegression\n",
    "from sklearn.metrics import mean_absolute_error, mean_squared_error, r2_score\n",
    "\n",
    "model_1 = LinearRegression()\n",
    "model_1.fit(x_train, y_train)\n",
    "\n",
    "model_1_predictions = model_1.predict(x_test)\n",
    "\n",
    "model_1_mae = mean_absolute_error(y_test, model_1_predictions)\n",
    "model_1_mse = mean_squared_error(y_test, model_1_predictions)\n",
    "model_1_r2 = r2_score(y_test, model_1_predictions)\n",
    "\n",
    "print(\"Linear Regression Metrics:\")\n",
    "print(f\"MAE: {model_1_mae:.2f}\")\n",
    "print(f\"MSE: {model_1_mse:.2f}\")\n",
    "print(f\"R2: {model_1_r2:.2f}\\n\")"
   ]
  },
  {
   "cell_type": "code",
   "execution_count": 82,
   "id": "ece63381",
   "metadata": {},
   "outputs": [
    {
     "name": "stdout",
     "output_type": "stream",
     "text": [
      "Random Forest Regression Metrics:\n",
      "MAE: 1.85\n",
      "MSE: 6.37\n",
      "R2: 0.50\n",
      "\n"
     ]
    }
   ],
   "source": [
    "from sklearn.ensemble import RandomForestRegressor\n",
    "\n",
    "model_2 = RandomForestRegressor(n_estimators=100, random_state=0)\n",
    "model_2.fit(x_train, y_train)\n",
    "\n",
    "model_2_predictions = model_2.predict(x_test)\n",
    "\n",
    "model_2_mae = mean_absolute_error(y_test, model_2_predictions)\n",
    "model_2_mse = mean_squared_error(y_test, model_2_predictions)\n",
    "model_2_r2 = r2_score(y_test, model_2_predictions)\n",
    "\n",
    "print(\"Random Forest Regression Metrics:\")\n",
    "print(f\"MAE: {model_2_mae:.2f}\")\n",
    "print(f\"MSE: {model_2_mse:.2f}\")\n",
    "print(f\"R2: {model_2_r2:.2f}\\n\")"
   ]
  },
  {
   "cell_type": "code",
   "execution_count": 84,
   "id": "188b27e1",
   "metadata": {},
   "outputs": [
    {
     "name": "stdout",
     "output_type": "stream",
     "text": [
      "XGBoost Regression Metrics:\n",
      "MAE: 1.79\n",
      "RMSE: 5.89\n",
      "R²: 0.54\n"
     ]
    }
   ],
   "source": [
    "from xgboost import XGBRegressor\n",
    "\n",
    "model_3 = XGBRegressor(n_estimators=100, random_state=0)\n",
    "model_3.fit(x_train, y_train)\n",
    "\n",
    "model_3_predictions = model_3.predict(x_test)\n",
    "\n",
    "model_3_mae = mean_absolute_error(y_test, model_3_predictions)\n",
    "model_3_mse = mean_squared_error(y_test, model_3_predictions)\n",
    "modle_3_r2 = r2_score(y_test, model_3_predictions)\n",
    "\n",
    "print(\"XGBoost Regression Metrics:\")\n",
    "print(f\"MAE: {model_3_mae:.2f}\")\n",
    "print(f\"RMSE: {model_3_mse:.2f}\")\n",
    "print(f\"R²: {modle_3_r2:.2f}\")"
   ]
  }
 ],
 "metadata": {
  "kernelspec": {
   "display_name": "Python 3",
   "language": "python",
   "name": "python3"
  },
  "language_info": {
   "codemirror_mode": {
    "name": "ipython",
    "version": 3
   },
   "file_extension": ".py",
   "mimetype": "text/x-python",
   "name": "python",
   "nbconvert_exporter": "python",
   "pygments_lexer": "ipython3",
   "version": "3.11.9"
  }
 },
 "nbformat": 4,
 "nbformat_minor": 5
}
